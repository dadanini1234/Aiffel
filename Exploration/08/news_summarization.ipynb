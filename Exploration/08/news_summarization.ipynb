{
 "cells": [
  {
   "cell_type": "markdown",
   "id": "89e93921",
   "metadata": {},
   "source": [
    "# 프로젝트 8 : 뉴스기사 요약해보기\n",
    "\n",
    "새로운 데이터셋에 대해서 추상적 요약과 추출적 요약을 모두 해보자\n",
    "\n",
    "- 추상적 요약을 하는 경우 : text = 본문, headlines = 요약된 데이터\n",
    "- 추출적 요약을 하는 경우 : text열만 사용"
   ]
  },
  {
   "cell_type": "markdown",
   "id": "5cc9753f",
   "metadata": {},
   "source": [
    "# Step 1. 데이터 수집하기"
   ]
  },
  {
   "cell_type": "code",
   "execution_count": 1,
   "id": "a7de2986",
   "metadata": {},
   "outputs": [
    {
     "name": "stderr",
     "output_type": "stream",
     "text": [
      "[nltk_data] Downloading package stopwords to /aiffel/nltk_data...\n",
      "[nltk_data]   Package stopwords is already up-to-date!\n"
     ]
    }
   ],
   "source": [
    "import nltk\n",
    "nltk.download('stopwords')\n",
    "\n",
    "import numpy as np\n",
    "import pandas as pd\n",
    "import os\n",
    "import re\n",
    "import matplotlib.pyplot as plt\n",
    "from nltk.corpus import stopwords\n",
    "from bs4 import BeautifulSoup \n",
    "from tensorflow.keras.preprocessing.text import Tokenizer \n",
    "from tensorflow.keras.preprocessing.sequence import pad_sequences\n",
    "import urllib.request\n",
    "import warnings\n",
    "warnings.filterwarnings(\"ignore\", category=UserWarning, module='bs4')"
   ]
  },
  {
   "cell_type": "code",
   "execution_count": 105,
   "id": "5a0a9513",
   "metadata": {},
   "outputs": [
    {
     "name": "stdout",
     "output_type": "stream",
     "text": [
      "전체 샘플수 : 98401\n"
     ]
    }
   ],
   "source": [
    "# 데이터 다운로드\n",
    "import urllib.request\n",
    "urllib.request.urlretrieve(\"https://raw.githubusercontent.com/sunnysai12345/News_Summary/master/news_summary_more.csv\", filename=\"news_summary_more.csv\")\n",
    "data = pd.read_csv('news_summary_more.csv', encoding='iso-8859-1')\n",
    "print('전체 샘플수 :', (len(data)))"
   ]
  },
  {
   "cell_type": "code",
   "execution_count": 106,
   "id": "df9b8bcc",
   "metadata": {},
   "outputs": [
    {
     "data": {
      "text/html": [
       "<div>\n",
       "<style scoped>\n",
       "    .dataframe tbody tr th:only-of-type {\n",
       "        vertical-align: middle;\n",
       "    }\n",
       "\n",
       "    .dataframe tbody tr th {\n",
       "        vertical-align: top;\n",
       "    }\n",
       "\n",
       "    .dataframe thead th {\n",
       "        text-align: right;\n",
       "    }\n",
       "</style>\n",
       "<table border=\"1\" class=\"dataframe\">\n",
       "  <thead>\n",
       "    <tr style=\"text-align: right;\">\n",
       "      <th></th>\n",
       "      <th>headlines</th>\n",
       "      <th>text</th>\n",
       "    </tr>\n",
       "  </thead>\n",
       "  <tbody>\n",
       "    <tr>\n",
       "      <th>1040</th>\n",
       "      <td>Feel responsible, had sleepless nights: Karan ...</td>\n",
       "      <td>Karan Johar, while opening up about the contro...</td>\n",
       "    </tr>\n",
       "    <tr>\n",
       "      <th>33642</th>\n",
       "      <td>AAP leader calls Yogi 'nikamma' CM over van-tr...</td>\n",
       "      <td>Slamming Uttar Pradesh CM Yogi Adityanath over...</td>\n",
       "    </tr>\n",
       "    <tr>\n",
       "      <th>84652</th>\n",
       "      <td>Google slammed by court over users' right to b...</td>\n",
       "      <td>A German court has lashed out at Google via le...</td>\n",
       "    </tr>\n",
       "    <tr>\n",
       "      <th>35067</th>\n",
       "      <td>I'm the equal of Putin: French Prez boasts Syr...</td>\n",
       "      <td>Boasting the missile strikes on Russian ally S...</td>\n",
       "    </tr>\n",
       "    <tr>\n",
       "      <th>95062</th>\n",
       "      <td>New-found solar system may be uninhabitable du...</td>\n",
       "      <td>Hungary-based researchers studying the newly d...</td>\n",
       "    </tr>\n",
       "    <tr>\n",
       "      <th>92421</th>\n",
       "      <td>Five Madhesi parties unite ahead of local poll...</td>\n",
       "      <td>Five Madhesi parties on Thursday announced the...</td>\n",
       "    </tr>\n",
       "    <tr>\n",
       "      <th>66434</th>\n",
       "      <td>Shilpa, Sridevi, Raveena celebrated Karva Chau...</td>\n",
       "      <td>Actress Shilpa Shetty, Sridevi and Raveena Tan...</td>\n",
       "    </tr>\n",
       "    <tr>\n",
       "      <th>33349</th>\n",
       "      <td>Fan banned from stadium hires crane to watch h...</td>\n",
       "      <td>A fan of Turkish football club Denizlispor, wh...</td>\n",
       "    </tr>\n",
       "    <tr>\n",
       "      <th>70095</th>\n",
       "      <td>UK starts probe into money laundering charges ...</td>\n",
       "      <td>UK's Serious Fraud Office (SFO) has reportedly...</td>\n",
       "    </tr>\n",
       "    <tr>\n",
       "      <th>66675</th>\n",
       "      <td>U-17 WC organisers goof up, forget to felicita...</td>\n",
       "      <td>PM Narendra Modi ended up felicitating former ...</td>\n",
       "    </tr>\n",
       "  </tbody>\n",
       "</table>\n",
       "</div>"
      ],
      "text/plain": [
       "                                               headlines  \\\n",
       "1040   Feel responsible, had sleepless nights: Karan ...   \n",
       "33642  AAP leader calls Yogi 'nikamma' CM over van-tr...   \n",
       "84652  Google slammed by court over users' right to b...   \n",
       "35067  I'm the equal of Putin: French Prez boasts Syr...   \n",
       "95062  New-found solar system may be uninhabitable du...   \n",
       "92421  Five Madhesi parties unite ahead of local poll...   \n",
       "66434  Shilpa, Sridevi, Raveena celebrated Karva Chau...   \n",
       "33349  Fan banned from stadium hires crane to watch h...   \n",
       "70095  UK starts probe into money laundering charges ...   \n",
       "66675  U-17 WC organisers goof up, forget to felicita...   \n",
       "\n",
       "                                                    text  \n",
       "1040   Karan Johar, while opening up about the contro...  \n",
       "33642  Slamming Uttar Pradesh CM Yogi Adityanath over...  \n",
       "84652  A German court has lashed out at Google via le...  \n",
       "35067  Boasting the missile strikes on Russian ally S...  \n",
       "95062  Hungary-based researchers studying the newly d...  \n",
       "92421  Five Madhesi parties on Thursday announced the...  \n",
       "66434  Actress Shilpa Shetty, Sridevi and Raveena Tan...  \n",
       "33349  A fan of Turkish football club Denizlispor, wh...  \n",
       "70095  UK's Serious Fraud Office (SFO) has reportedly...  \n",
       "66675  PM Narendra Modi ended up felicitating former ...  "
      ]
     },
     "execution_count": 106,
     "metadata": {},
     "output_type": "execute_result"
    }
   ],
   "source": [
    "data.sample(10)"
   ]
  },
  {
   "cell_type": "markdown",
   "id": "b5d34dbb",
   "metadata": {},
   "source": [
    "# Step 2. 데이터 전처리하기 (추상적 요약)\n",
    "\n",
    "실습에서 사용된 전처리를 참고해 각자 필요하다고 생각하는 전처리를 추가로 사용해 텍스트를 정규화 또는 정제\n",
    "\n",
    "만약 불용어 제거를 선택한다면 상대적으로 길이가 짧은 요약 데이터에 대해서도 제거해야할지 고민해보자"
   ]
  },
  {
   "cell_type": "markdown",
   "id": "6d51684d",
   "metadata": {},
   "source": [
    "## (1) 데이터 정리"
   ]
  },
  {
   "cell_type": "markdown",
   "id": "cb1c417e",
   "metadata": {},
   "source": [
    "### 중복 샘플과 NULL 값이 존재하는 샘플 제거"
   ]
  },
  {
   "cell_type": "code",
   "execution_count": 107,
   "id": "cc93ed1e",
   "metadata": {},
   "outputs": [
    {
     "name": "stdout",
     "output_type": "stream",
     "text": [
      "Text 열에서 중복을 배제한 유일한 샘플의 수 : 98280\n",
      "Summary 열에서 중복을 배제한 유일한 샘플의 수 : 98360\n"
     ]
    }
   ],
   "source": [
    "# 데이터의 중복 샘플 유무 확인\n",
    "print('Text 열에서 중복을 배제한 유일한 샘플의 수 :', data['headlines'].nunique())\n",
    "print('Summary 열에서 중복을 배제한 유일한 샘플의 수 :', data['text'].nunique())"
   ]
  },
  {
   "cell_type": "code",
   "execution_count": 108,
   "id": "cd8350ea",
   "metadata": {},
   "outputs": [
    {
     "name": "stdout",
     "output_type": "stream",
     "text": [
      "전체 샘플수 : 98360\n"
     ]
    }
   ],
   "source": [
    "# inplace=True 를 설정하면 DataFrame 타입 값을 return 하지 않고 data 내부를 직접적으로 바꿔줌\n",
    "# 요약은 중복이 되어도 되지만 text는 안됨 \n",
    "# 중복 제거\n",
    "data.drop_duplicates(subset = ['text'], inplace=True)\n",
    "print('전체 샘플수 :', (len(data)))"
   ]
  },
  {
   "cell_type": "markdown",
   "id": "49dae306",
   "metadata": {},
   "source": [
    "데이터에 null값이 남아있는지 확인, .isnull().sum()"
   ]
  },
  {
   "cell_type": "code",
   "execution_count": 109,
   "id": "7a94770f",
   "metadata": {},
   "outputs": [
    {
     "name": "stdout",
     "output_type": "stream",
     "text": [
      "headlines    0\n",
      "text         0\n",
      "dtype: int64\n"
     ]
    }
   ],
   "source": [
    "print(data.isnull().sum())"
   ]
  },
  {
   "cell_type": "markdown",
   "id": "f2b6f2f2",
   "metadata": {},
   "source": [
    "null값이 없음"
   ]
  },
  {
   "cell_type": "markdown",
   "id": "1408b90c",
   "metadata": {},
   "source": [
    "샘플수는 총 98401 -> 98360개로 줄었음"
   ]
  },
  {
   "cell_type": "markdown",
   "id": "530c414b",
   "metadata": {},
   "source": [
    "### 텍스트 정규화와 불용어 제거\n"
   ]
  },
  {
   "cell_type": "code",
   "execution_count": 7,
   "id": "49eb070a",
   "metadata": {},
   "outputs": [
    {
     "name": "stdout",
     "output_type": "stream",
     "text": [
      "정규화 사전의 수:  120\n"
     ]
    }
   ],
   "source": [
    "# 텍스트 정규화를 위해 사전을 구성한다\n",
    "contractions = {\"ain't\": \"is not\", \"aren't\": \"are not\",\"can't\": \"cannot\", \"'cause\": \"because\", \"could've\": \"could have\", \"couldn't\": \"could not\",\n",
    "                           \"didn't\": \"did not\",  \"doesn't\": \"does not\", \"don't\": \"do not\", \"hadn't\": \"had not\", \"hasn't\": \"has not\", \"haven't\": \"have not\",\n",
    "                           \"he'd\": \"he would\",\"he'll\": \"he will\", \"he's\": \"he is\", \"how'd\": \"how did\", \"how'd'y\": \"how do you\", \"how'll\": \"how will\", \"how's\": \"how is\",\n",
    "                           \"I'd\": \"I would\", \"I'd've\": \"I would have\", \"I'll\": \"I will\", \"I'll've\": \"I will have\",\"I'm\": \"I am\", \"I've\": \"I have\", \"i'd\": \"i would\",\n",
    "                           \"i'd've\": \"i would have\", \"i'll\": \"i will\",  \"i'll've\": \"i will have\",\"i'm\": \"i am\", \"i've\": \"i have\", \"isn't\": \"is not\", \"it'd\": \"it would\",\n",
    "                           \"it'd've\": \"it would have\", \"it'll\": \"it will\", \"it'll've\": \"it will have\",\"it's\": \"it is\", \"let's\": \"let us\", \"ma'am\": \"madam\",\n",
    "                           \"mayn't\": \"may not\", \"might've\": \"might have\",\"mightn't\": \"might not\",\"mightn't've\": \"might not have\", \"must've\": \"must have\",\n",
    "                           \"mustn't\": \"must not\", \"mustn't've\": \"must not have\", \"needn't\": \"need not\", \"needn't've\": \"need not have\",\"o'clock\": \"of the clock\",\n",
    "                           \"oughtn't\": \"ought not\", \"oughtn't've\": \"ought not have\", \"shan't\": \"shall not\", \"sha'n't\": \"shall not\", \"shan't've\": \"shall not have\",\n",
    "                           \"she'd\": \"she would\", \"she'd've\": \"she would have\", \"she'll\": \"she will\", \"she'll've\": \"she will have\", \"she's\": \"she is\",\n",
    "                           \"should've\": \"should have\", \"shouldn't\": \"should not\", \"shouldn't've\": \"should not have\", \"so've\": \"so have\",\"so's\": \"so as\",\n",
    "                           \"this's\": \"this is\",\"that'd\": \"that would\", \"that'd've\": \"that would have\", \"that's\": \"that is\", \"there'd\": \"there would\",\n",
    "                           \"there'd've\": \"there would have\", \"there's\": \"there is\", \"here's\": \"here is\",\"they'd\": \"they would\", \"they'd've\": \"they would have\",\n",
    "                           \"they'll\": \"they will\", \"they'll've\": \"they will have\", \"they're\": \"they are\", \"they've\": \"they have\", \"to've\": \"to have\",\n",
    "                           \"wasn't\": \"was not\", \"we'd\": \"we would\", \"we'd've\": \"we would have\", \"we'll\": \"we will\", \"we'll've\": \"we will have\", \"we're\": \"we are\",\n",
    "                           \"we've\": \"we have\", \"weren't\": \"were not\", \"what'll\": \"what will\", \"what'll've\": \"what will have\", \"what're\": \"what are\",\n",
    "                           \"what's\": \"what is\", \"what've\": \"what have\", \"when's\": \"when is\", \"when've\": \"when have\", \"where'd\": \"where did\", \"where's\": \"where is\",\n",
    "                           \"where've\": \"where have\", \"who'll\": \"who will\", \"who'll've\": \"who will have\", \"who's\": \"who is\", \"who've\": \"who have\",\n",
    "                           \"why's\": \"why is\", \"why've\": \"why have\", \"will've\": \"will have\", \"won't\": \"will not\", \"won't've\": \"will not have\",\n",
    "                           \"would've\": \"would have\", \"wouldn't\": \"would not\", \"wouldn't've\": \"would not have\", \"y'all\": \"you all\",\n",
    "                           \"y'all'd\": \"you all would\",\"y'all'd've\": \"you all would have\",\"y'all're\": \"you all are\",\"y'all've\": \"you all have\",\n",
    "                           \"you'd\": \"you would\", \"you'd've\": \"you would have\", \"you'll\": \"you will\", \"you'll've\": \"you will have\",\n",
    "                           \"you're\": \"you are\", \"you've\": \"you have\"}\n",
    "\n",
    "print(\"정규화 사전의 수: \", len(contractions))"
   ]
  },
  {
   "cell_type": "markdown",
   "id": "21ac33fd",
   "metadata": {},
   "source": [
    "자연어 처리의 성능을 높이기 위해 불용어 제거해보자"
   ]
  },
  {
   "cell_type": "markdown",
   "id": "902f30d1",
   "metadata": {},
   "source": [
    "- 소문자 변환, br등 html 태그 제거, 괄호 안 단어 제거, 특수문자 제거\n",
    "\n",
    "- 함수 하단에 Text 전처리시에만 불용어를 제거하는 파트를 추가(summary 전처리에는 호출되지 않도록) if remove_stopwards() 사용"
   ]
  },
  {
   "cell_type": "code",
   "execution_count": 8,
   "id": "32a83fb1",
   "metadata": {},
   "outputs": [],
   "source": [
    "# 데이터 전처리 함수\n",
    "def preprocess_sentence(sentence, remove_stopwords=True):\n",
    "    sentence = sentence.lower() # 텍스트 소문자화\n",
    "    sentence = BeautifulSoup(sentence, \"lxml\").text # html 태그 제거\n",
    "    sentence = re.sub(r'\\([^)]*\\)', '', sentence) # 괄호로 닫힌 문자열 제거\n",
    "    sentence = re.sub('\"','', sentence) # 쌍따옴표 제거\n",
    "    sentence = ' '.join([contractions[t] if t in contractions else t for t in sentence.split(\" \")]) # 약어 정규화\n",
    "    sentence = re.sub(r\"'s\\b\",\"\", sentence) # 소유격 제거\n",
    "    sentence = re.sub(\"[^a-zA-Z]\", \" \", sentence) # 영어 외 문자(숫자, 특수문자 등) 공백으로 변환\n",
    "    sentence = re.sub('[m]{2,}', 'mm', sentence) # m이 3개 이상이면 2개로 변경.\n",
    "    \n",
    "    # 불용어 제거 (text)\n",
    "    if remove_stopwords:\n",
    "        tokens = ' '.join(word for word in sentence.split() if not word in stopwords.words('english') if len(word) > 1)\n",
    "    # 불용어 미제거 (headlines)\n",
    "    else:\n",
    "        tokens = ' '.join(word for word in sentence.split() if len(word) > 1)\n",
    "    return tokens"
   ]
  },
  {
   "cell_type": "code",
   "execution_count": 11,
   "id": "44a1ba3a",
   "metadata": {},
   "outputs": [
    {
     "name": "stdout",
     "output_type": "stream",
     "text": [
      "text:  everything bought great infact ordered twice third ordered wasfor mother father\n",
      "headlines: great way to start the day\n"
     ]
    }
   ],
   "source": [
    "# 전처리 전, 후의 결과를 확인하기 위해서 임의의 text와 headlines 만들어 함수를 호출\n",
    "temp_text = 'Everything I bought was great, infact I ordered twice and the third ordered was<br />for my mother and father.'\n",
    "temp_headlines = 'Great way to start (or finish) the day!!!'\n",
    "\n",
    "print(\"text: \", preprocess_sentence(temp_text))\n",
    "print(\"headlines:\", preprocess_sentence(temp_headlines, False))  # 불용어를 제거하지 않는다"
   ]
  },
  {
   "cell_type": "code",
   "execution_count": 12,
   "id": "cb45c07f",
   "metadata": {},
   "outputs": [
    {
     "name": "stdout",
     "output_type": "stream",
     "text": [
      "결과:  ['saurav kant alumnus upgrad iiit pg program machine learning artificial intelligence sr systems engineer infosys almost years work experience program upgrad degree career support helped transition data scientist tech mahindra salary hike upgrad online power learning powered lakh careers', 'kunal shah credit card bill payment platform cred gave users chance win free food swiggy one year pranav kaushik delhi techie bagged reward spending cred coins users get one cred coin per rupee bill paid used avail rewards brands like ixigo bookmyshow ubereats cult fit', 'new zealand defeated india wickets fourth odi hamilton thursday win first match five match odi series india lost international match rohit sharma captaincy consecutive victories dating back march match witnessed india getting seventh lowest total odi cricket history', 'aegon life iterm insurance plan customers enjoy tax benefits premiums paid save taxes plan provides life cover age years also customers options insure critical illnesses disability accidental death benefit rider life cover age years', 'speaking sexual harassment allegations rajkumar hirani sonam kapoor said known hirani many years true metoo movement get derailed metoo movement always believe woman case need reserve judgment added hirani accused assistant worked sanju']\n"
     ]
    }
   ],
   "source": [
    "# 훈련 데이터 전처리 수행\n",
    "# text는 불용어 제거 \n",
    "clean_text = []\n",
    "for s in data['text']:\n",
    "    clean_text.append(preprocess_sentence(s))\n",
    "\n",
    "# 전처리 후 출력\n",
    "print(\"text 전처리 후 결과: \", clean_text[:5])"
   ]
  },
  {
   "cell_type": "code",
   "execution_count": 15,
   "id": "3ffff2b3",
   "metadata": {},
   "outputs": [
    {
     "name": "stdout",
     "output_type": "stream",
     "text": [
      "headlines 전처리 후 결과:  ['upgrad learner switches to career in ml al with salary hike', 'delhi techie wins free food from swiggy for one year on cred', 'new zealand end rohit sharma led india match winning streak', 'aegon life iterm insurance plan helps customers save tax', 'have known hirani for yrs what if metoo claims are not true sonam']\n"
     ]
    }
   ],
   "source": [
    "clean_headlines = []\n",
    "for s in data['headlines']:\n",
    "    clean_headlines.append(preprocess_sentence(s, False)) # false를 넣어준다\n",
    "\n",
    "print(\"headlines 전처리 후 결과: \", clean_headlines[:5])"
   ]
  },
  {
   "cell_type": "code",
   "execution_count": 17,
   "id": "5e58936e",
   "metadata": {},
   "outputs": [
    {
     "data": {
      "text/plain": [
       "headlines    0\n",
       "text         0\n",
       "dtype: int64"
      ]
     },
     "execution_count": 17,
     "metadata": {},
     "output_type": "execute_result"
    }
   ],
   "source": [
    "# 다시 빈 샘플 확인해보기\n",
    "data['text'] = clean_text\n",
    "data['headlines'] = clean_headlines\n",
    "\n",
    "# 빈 값을 Null 값으로 변환\n",
    "data.replace('', np.nan, inplace=True)\n",
    "\n",
    "# null 값이 생겼는지 확인\n",
    "data.isnull().sum()"
   ]
  },
  {
   "cell_type": "markdown",
   "id": "1198ce8e",
   "metadata": {},
   "source": [
    "## (2) 훈련데이터와 테스트데이터 나누기\n",
    "\n",
    "### 샘플의 최대 길이 정하기\n",
    "- 필요 없는 단어를 모두 제거했으니까 샘플의 최대 길이를 정해준다\n",
    "- text와 headlines의 최소, 최대, 평균 길이를 구하고 또한 길이 분포를 시각화해보자"
   ]
  },
  {
   "cell_type": "code",
   "execution_count": 18,
   "id": "0c00f86a",
   "metadata": {},
   "outputs": [
    {
     "name": "stdout",
     "output_type": "stream",
     "text": [
      "텍스트의 최소 길이 : 1\n",
      "텍스트의 최대 길이 : 60\n",
      "텍스트의 평균 길이 : 35.09968483123221\n",
      "요약의 최소 길이 : 1\n",
      "요약의 최대 길이 : 16\n",
      "요약의 평균 길이 : 9.299532330215534\n"
     ]
    },
    {
     "data": {
      "image/png": "[encoded data removed]",
      "text/plain": [
       "<Figure size 432x288 with 2 Axes>"
      ]
     },
     "metadata": {
      "needs_background": "light"
     },
     "output_type": "display_data"
    },
    {
     "data": {
      "image/png": "[encoded data removed]",
      "text/plain": [
       "<Figure size 432x288 with 1 Axes>"
      ]
     },
     "metadata": {
      "needs_background": "light"
     },
     "output_type": "display_data"
    },
    {
     "data": {
      "image/png": "[encoded data removed]",
      "text/plain": [
       "<Figure size 432x288 with 1 Axes>"
      ]
     },
     "metadata": {
      "needs_background": "light"
     },
     "output_type": "display_data"
    }
   ],
   "source": [
    "# 길이 분포 출력\n",
    "import matplotlib.pyplot as plt\n",
    "\n",
    "text_len = [len(s.split()) for s in data['text']]\n",
    "headlines_len = [len(s.split()) for s in data['headlines']]\n",
    "\n",
    "print('텍스트의 최소 길이 : {}'.format(np.min(text_len)))\n",
    "print('텍스트의 최대 길이 : {}'.format(np.max(text_len)))\n",
    "print('텍스트의 평균 길이 : {}'.format(np.mean(text_len)))\n",
    "print('요약의 최소 길이 : {}'.format(np.min(headlines_len)))\n",
    "print('요약의 최대 길이 : {}'.format(np.max(headlines_len)))\n",
    "print('요약의 평균 길이 : {}'.format(np.mean(headlines_len)))\n",
    "\n",
    "plt.subplot(1,2,1)\n",
    "plt.boxplot(text_len)\n",
    "plt.title('text')\n",
    "plt.subplot(1,2,2)\n",
    "plt.boxplot(headlines_len)\n",
    "plt.title('headlines')\n",
    "plt.tight_layout()\n",
    "plt.show()\n",
    "\n",
    "plt.title('text')\n",
    "plt.hist(text_len, bins = 40)\n",
    "plt.xlabel('length of samples')\n",
    "plt.ylabel('number of samples')\n",
    "plt.show()\n",
    "\n",
    "plt.title('headlines')\n",
    "plt.hist(headlines_len, bins = 40)\n",
    "plt.xlabel('length of samples')\n",
    "plt.ylabel('number of samples')\n",
    "plt.show()"
   ]
  },
  {
   "cell_type": "code",
   "execution_count": 19,
   "id": "adc9f248",
   "metadata": {},
   "outputs": [],
   "source": [
    "# text의 최대 길이와 headlines의 적절한 최대 길이를 임의로 정하자\n",
    "text_max_len = 40\n",
    "headlines_max_len = 12"
   ]
  },
  {
   "cell_type": "code",
   "execution_count": 20,
   "id": "be0ed78c",
   "metadata": {},
   "outputs": [],
   "source": [
    "# 훈련 데이터와 샘플의 길이를 입력하면, 데이터의 몇 %가 해당하는지 계산하는 함수를 만들어서 좀 더 정확하게 알아보자\n",
    "def below_threshold_len(max_len, nested_list):\n",
    "  cnt = 0\n",
    "  for s in nested_list:\n",
    "    if(len(s.split()) <= max_len):\n",
    "        cnt = cnt + 1\n",
    "  print('전체 샘플 중 길이가 %s 이하인 샘플의 비율: %s'%(max_len, (cnt / len(nested_list))))"
   ]
  },
  {
   "cell_type": "code",
   "execution_count": 22,
   "id": "f0656daa",
   "metadata": {},
   "outputs": [
    {
     "name": "stdout",
     "output_type": "stream",
     "text": [
      "전체 샘플 중 길이가 40 이하인 샘플의 비율: 0.9238714924766165\n",
      "전체 샘플 중 길이가 12 이하인 샘플의 비율: 0.9880337535583571\n"
     ]
    }
   ],
   "source": [
    "# text, headlines 적용\n",
    "below_threshold_len(text_max_len, data['text'])\n",
    "below_threshold_len(headlines_max_len,  data['headlines'])"
   ]
  },
  {
   "cell_type": "code",
   "execution_count": 23,
   "id": "46d54636",
   "metadata": {},
   "outputs": [
    {
     "name": "stdout",
     "output_type": "stream",
     "text": [
      "전체 샘플수 : 89775\n"
     ]
    }
   ],
   "source": [
    "data = data[data['text'].apply(lambda x: len(x.split()) <= text_max_len)]\n",
    "data = data[data['headlines'].apply(lambda x: len(x.split()) <= headlines_max_len)]\n",
    "print('전체 샘플수 :', (len(data)))"
   ]
  },
  {
   "cell_type": "markdown",
   "id": "49d80ae6",
   "metadata": {},
   "source": [
    "### 시작 토큰과 종료 토큰 추가하기\n",
    "\n",
    "- seq2seq훈련을 위해 디코더의 입력과 레이블에 시작 토큰과 종료 토큰을 추가해야한다.\n",
    "- headlines에 sostoken, eostoken추가"
   ]
  },
  {
   "cell_type": "code",
   "execution_count": 24,
   "id": "6aeb93bb",
   "metadata": {},
   "outputs": [
    {
     "data": {
      "text/html": [
       "<div>\n",
       "<style scoped>\n",
       "    .dataframe tbody tr th:only-of-type {\n",
       "        vertical-align: middle;\n",
       "    }\n",
       "\n",
       "    .dataframe tbody tr th {\n",
       "        vertical-align: top;\n",
       "    }\n",
       "\n",
       "    .dataframe thead th {\n",
       "        text-align: right;\n",
       "    }\n",
       "</style>\n",
       "<table border=\"1\" class=\"dataframe\">\n",
       "  <thead>\n",
       "    <tr style=\"text-align: right;\">\n",
       "      <th></th>\n",
       "      <th>headlines</th>\n",
       "      <th>text</th>\n",
       "      <th>decoder_input</th>\n",
       "      <th>decoder_target</th>\n",
       "    </tr>\n",
       "  </thead>\n",
       "  <tbody>\n",
       "    <tr>\n",
       "      <th>0</th>\n",
       "      <td>upgrad learner switches to career in ml al wit...</td>\n",
       "      <td>saurav kant alumnus upgrad iiit pg program mac...</td>\n",
       "      <td>sostoken upgrad learner switches to career in ...</td>\n",
       "      <td>upgrad learner switches to career in ml al wit...</td>\n",
       "    </tr>\n",
       "    <tr>\n",
       "      <th>2</th>\n",
       "      <td>new zealand end rohit sharma led india match w...</td>\n",
       "      <td>new zealand defeated india wickets fourth odi ...</td>\n",
       "      <td>sostoken new zealand end rohit sharma led indi...</td>\n",
       "      <td>new zealand end rohit sharma led india match w...</td>\n",
       "    </tr>\n",
       "    <tr>\n",
       "      <th>3</th>\n",
       "      <td>aegon life iterm insurance plan helps customer...</td>\n",
       "      <td>aegon life iterm insurance plan customers enjo...</td>\n",
       "      <td>sostoken aegon life iterm insurance plan helps...</td>\n",
       "      <td>aegon life iterm insurance plan helps customer...</td>\n",
       "    </tr>\n",
       "    <tr>\n",
       "      <th>5</th>\n",
       "      <td>rahat fateh ali khan denies getting notice for...</td>\n",
       "      <td>pakistani singer rahat fateh ali khan denied r...</td>\n",
       "      <td>sostoken rahat fateh ali khan denies getting n...</td>\n",
       "      <td>rahat fateh ali khan denies getting notice for...</td>\n",
       "    </tr>\n",
       "    <tr>\n",
       "      <th>6</th>\n",
       "      <td>india get all out for their lowest odi total i...</td>\n",
       "      <td>india recorded lowest odi total new zealand ge...</td>\n",
       "      <td>sostoken india get all out for their lowest od...</td>\n",
       "      <td>india get all out for their lowest odi total i...</td>\n",
       "    </tr>\n",
       "  </tbody>\n",
       "</table>\n",
       "</div>"
      ],
      "text/plain": [
       "                                           headlines  \\\n",
       "0  upgrad learner switches to career in ml al wit...   \n",
       "2  new zealand end rohit sharma led india match w...   \n",
       "3  aegon life iterm insurance plan helps customer...   \n",
       "5  rahat fateh ali khan denies getting notice for...   \n",
       "6  india get all out for their lowest odi total i...   \n",
       "\n",
       "                                                text  \\\n",
       "0  saurav kant alumnus upgrad iiit pg program mac...   \n",
       "2  new zealand defeated india wickets fourth odi ...   \n",
       "3  aegon life iterm insurance plan customers enjo...   \n",
       "5  pakistani singer rahat fateh ali khan denied r...   \n",
       "6  india recorded lowest odi total new zealand ge...   \n",
       "\n",
       "                                       decoder_input  \\\n",
       "0  sostoken upgrad learner switches to career in ...   \n",
       "2  sostoken new zealand end rohit sharma led indi...   \n",
       "3  sostoken aegon life iterm insurance plan helps...   \n",
       "5  sostoken rahat fateh ali khan denies getting n...   \n",
       "6  sostoken india get all out for their lowest od...   \n",
       "\n",
       "                                      decoder_target  \n",
       "0  upgrad learner switches to career in ml al wit...  \n",
       "2  new zealand end rohit sharma led india match w...  \n",
       "3  aegon life iterm insurance plan helps customer...  \n",
       "5  rahat fateh ali khan denies getting notice for...  \n",
       "6  india get all out for their lowest odi total i...  "
      ]
     },
     "execution_count": 24,
     "metadata": {},
     "output_type": "execute_result"
    }
   ],
   "source": [
    "# 요약 데이터에는 시작 토큰과 종료 토큰을 추가한다.\n",
    "data['decoder_input'] = data['headlines'].apply(lambda x : 'sostoken '+ x)\n",
    "data['decoder_target'] = data['headlines'].apply(lambda x : x + ' eostoken')\n",
    "data.head()"
   ]
  },
  {
   "cell_type": "code",
   "execution_count": 25,
   "id": "1838eb0f",
   "metadata": {},
   "outputs": [],
   "source": [
    "# 인코더의 입력, 디코더의 입력과 레이블을 각각 다시 numpy타입으로 저장\n",
    "\n",
    "encoder_input = np.array(data['text']) # 인코더의 입력\n",
    "decoder_input = np.array(data['decoder_input']) # 디코더의 입력\n",
    "decoder_target = np.array(data['decoder_target']) # 디코더의 레이블"
   ]
  },
  {
   "cell_type": "code",
   "execution_count": 26,
   "id": "7d9b9f60",
   "metadata": {},
   "outputs": [
    {
     "name": "stdout",
     "output_type": "stream",
     "text": [
      "[11975 38679 86441 ... 32923 22442 30989]\n"
     ]
    }
   ],
   "source": [
    "# 훈련 데이터와 테스트 데이터 분리\n",
    "# encoder_input과 크기와 형태가 같은 순서가 섞인 정수 시퀀스를 만들어준다\n",
    "indices = np.arange(encoder_input.shape[0])\n",
    "np.random.shuffle(indices)\n",
    "print(indices)"
   ]
  },
  {
   "cell_type": "code",
   "execution_count": 27,
   "id": "1d8e196c",
   "metadata": {},
   "outputs": [],
   "source": [
    "# 정수 시퀀스를 이용해 다시 샘플 순서를 정의해주면 잘 섞인 샘플이 된다\n",
    "encoder_input = encoder_input[indices]\n",
    "decoder_input = decoder_input[indices]\n",
    "decoder_target = decoder_target[indices]"
   ]
  },
  {
   "cell_type": "code",
   "execution_count": 28,
   "id": "343d9742",
   "metadata": {},
   "outputs": [
    {
     "name": "stdout",
     "output_type": "stream",
     "text": [
      "테스트 데이터의 수 : 17955\n"
     ]
    }
   ],
   "source": [
    "# 훈련:테스트 -> 8:2로 분리\n",
    "n_of_val = int(len(encoder_input)*0.2)\n",
    "print('테스트 데이터의 수 :', n_of_val)"
   ]
  },
  {
   "cell_type": "code",
   "execution_count": 29,
   "id": "cec4c95d",
   "metadata": {},
   "outputs": [
    {
     "name": "stdout",
     "output_type": "stream",
     "text": [
      "훈련 데이터의 개수 : 71820\n",
      "훈련 레이블의 개수 : 71820\n",
      "테스트 데이터의 개수 : 17955\n",
      "테스트 레이블의 개수 : 17955\n"
     ]
    }
   ],
   "source": [
    "# 전체 데이터를 분리\n",
    "encoder_input_train = encoder_input[:-n_of_val]\n",
    "decoder_input_train = decoder_input[:-n_of_val]\n",
    "decoder_target_train = decoder_target[:-n_of_val]\n",
    "\n",
    "encoder_input_test = encoder_input[-n_of_val:]\n",
    "decoder_input_test = decoder_input[-n_of_val:]\n",
    "decoder_target_test = decoder_target[-n_of_val:]\n",
    "\n",
    "print('훈련 데이터의 개수 :', len(encoder_input_train))\n",
    "print('훈련 레이블의 개수 :', len(decoder_input_train))\n",
    "print('테스트 데이터의 개수 :', len(encoder_input_test))\n",
    "print('테스트 레이블의 개수 :', len(decoder_input_test))"
   ]
  },
  {
   "cell_type": "markdown",
   "id": "30d39ad6",
   "metadata": {},
   "source": [
    "## (3) 정수 인코딩 - 단어 집합(vocabulary) 만들기 및 정수 인코딩\n",
    "\n",
    "keras의 토크나이저 사용해서 encoder_input_train에 대해 단어집합 구성해준다"
   ]
  },
  {
   "cell_type": "code",
   "execution_count": 30,
   "id": "d49273a8",
   "metadata": {},
   "outputs": [],
   "source": [
    "src_tokenizer = Tokenizer() # 토크나이저 정의\n",
    "src_tokenizer.fit_on_texts(encoder_input_train) # 입력된 데이터로부터 단어 집합 생성"
   ]
  },
  {
   "cell_type": "code",
   "execution_count": 39,
   "id": "9c480cce",
   "metadata": {},
   "outputs": [
    {
     "name": "stdout",
     "output_type": "stream",
     "text": [
      "단어 집합(vocabulary)의 크기 : 65709\n",
      "등장 빈도가 8번 이하인 희귀 단어의 수: 47368\n",
      "단어 집합에서 희귀 단어를 제외시킬 경우의 단어 집합의 크기 18341\n",
      "단어 집합에서 희귀 단어의 비율: 72.08753747584045\n",
      "전체 등장 빈도에서 희귀 단어 등장 빈도 비율: 4.455903512620658\n"
     ]
    }
   ],
   "source": [
    "# 빈도수 9회 미만의 단어가 차지하는 비중 확인\n",
    "\n",
    "threshold = 9\n",
    "total_cnt = len(src_tokenizer.word_index) # 단어의 수\n",
    "rare_cnt = 0 # 등장 빈도수가 threshold보다 작은 단어의 개수를 카운트\n",
    "total_freq = 0 # 훈련 데이터의 전체 단어 빈도수 총 합\n",
    "rare_freq = 0 # 등장 빈도수가 threshold보다 작은 단어의 등장 빈도수의 총 합\n",
    "\n",
    "for key, value in src_tokenizer.word_counts.items():\n",
    "    total_freq = total_freq + value\n",
    "\n",
    "    # 단어의 등장 빈도수가 threshold보다 작으면\n",
    "    if(value < threshold):\n",
    "        rare_cnt = rare_cnt + 1\n",
    "        rare_freq = rare_freq + value\n",
    "\n",
    "print('단어 집합(vocabulary)의 크기 :', total_cnt)\n",
    "print('등장 빈도가 %s번 이하인 희귀 단어의 수: %s'%(threshold - 1, rare_cnt))\n",
    "print('단어 집합에서 희귀 단어를 제외시킬 경우의 단어 집합의 크기 %s'%(total_cnt - rare_cnt))\n",
    "print(\"단어 집합에서 희귀 단어의 비율:\", (rare_cnt / total_cnt)*100)\n",
    "print(\"전체 등장 빈도에서 희귀 단어 등장 빈도 비율:\", (rare_freq / total_freq)*100)"
   ]
  },
  {
   "cell_type": "code",
   "execution_count": 40,
   "id": "4bfd554c",
   "metadata": {},
   "outputs": [],
   "source": [
    "# 제외한 단어집합의 크기가 18341이었으므로 대충 18000개로 제한한다.\n",
    "src_vocab = 18000          \n",
    "src_tokenizer = Tokenizer(num_words=src_vocab) # num_words로 단어 집합의 크기를 8,000으로 제한\n",
    "src_tokenizer.fit_on_texts(encoder_input_train) # 단어 집합 재생성"
   ]
  },
  {
   "cell_type": "code",
   "execution_count": 41,
   "id": "6f047498",
   "metadata": {},
   "outputs": [
    {
     "name": "stdout",
     "output_type": "stream",
     "text": [
      "[[305, 1154, 319, 607, 457, 183, 15, 8876, 3993, 37, 16, 1001, 248, 59, 1, 6397, 1255, 11118, 1199, 361, 457, 219, 198, 176, 1157, 177, 315, 248, 1, 16488, 117, 5180], [83, 123, 12, 4801, 138, 489, 3315, 47, 5073, 3481, 7492, 10292, 2520, 15059, 3203, 7, 1, 58, 4801, 5073, 1154, 202, 3966, 1540, 154, 435, 9580, 70, 403, 45, 433, 362, 1962, 508], [15, 20, 49, 362, 424, 2849, 1344, 69, 1, 471, 3883, 593, 103, 499, 3415, 6316, 6952, 6316, 10546, 925, 121, 1449, 252, 8, 499, 3415, 53, 1397, 3731, 1546, 599, 11119, 55, 428, 23]]\n"
     ]
    }
   ],
   "source": [
    "# 텍스트 시퀀스를 정수 시퀀스로 변환 = 정수 인코딩(18000이상의 숫자들은 없어진다)\n",
    "encoder_input_train = src_tokenizer.texts_to_sequences(encoder_input_train) \n",
    "encoder_input_test = src_tokenizer.texts_to_sequences(encoder_input_test)\n",
    "\n",
    "# 잘 진행되었는지 샘플 출력\n",
    "print(encoder_input_train[:3])"
   ]
  },
  {
   "cell_type": "code",
   "execution_count": 42,
   "id": "25b57bb6",
   "metadata": {},
   "outputs": [],
   "source": [
    "# headlines 데이터에도 동일하게 작업 \n",
    "tar_tokenizer = Tokenizer()\n",
    "tar_tokenizer.fit_on_texts(decoder_input_train)"
   ]
  },
  {
   "cell_type": "code",
   "execution_count": 45,
   "id": "efd604a6",
   "metadata": {},
   "outputs": [
    {
     "name": "stdout",
     "output_type": "stream",
     "text": [
      "단어 집합(vocabulary)의 크기 : 28795\n",
      "등장 빈도가 7번 이하인 희귀 단어의 수: 20452\n",
      "단어 집합에서 희귀 단어를 제외시킬 경우의 단어 집합의 크기 8343\n",
      "단어 집합에서 희귀 단어의 비율: 71.02621982983158\n",
      "전체 등장 빈도에서 희귀 단어 등장 빈도 비율: 6.295415627253383\n"
     ]
    }
   ],
   "source": [
    "# 등장 빈도수 8회 미만으로 확인\n",
    "threshold = 8\n",
    "total_cnt = len(tar_tokenizer.word_index) # 단어의 수\n",
    "rare_cnt = 0 # 등장 빈도수가 threshold보다 작은 단어의 개수를 카운트\n",
    "total_freq = 0 # 훈련 데이터의 전체 단어 빈도수 총 합\n",
    "rare_freq = 0 # 등장 빈도수가 threshold보다 작은 단어의 등장 빈도수의 총 합\n",
    "\n",
    "for key, value in tar_tokenizer.word_counts.items():\n",
    "    total_freq = total_freq + value\n",
    "\n",
    "    # 단어의 등장 빈도수가 threshold보다 작으면\n",
    "    if(value < threshold):\n",
    "        rare_cnt = rare_cnt + 1\n",
    "        rare_freq = rare_freq + value\n",
    "\n",
    "print('단어 집합(vocabulary)의 크기 :', total_cnt)\n",
    "print('등장 빈도가 %s번 이하인 희귀 단어의 수: %s'%(threshold - 1, rare_cnt))\n",
    "print('단어 집합에서 희귀 단어를 제외시킬 경우의 단어 집합의 크기 %s'%(total_cnt - rare_cnt))\n",
    "print(\"단어 집합에서 희귀 단어의 비율:\", (rare_cnt / total_cnt)*100)\n",
    "print(\"전체 등장 빈도에서 희귀 단어 등장 빈도 비율:\", (rare_freq / total_freq)*100)"
   ]
  },
  {
   "cell_type": "code",
   "execution_count": 46,
   "id": "61b5a635",
   "metadata": {},
   "outputs": [
    {
     "name": "stdout",
     "output_type": "stream",
     "text": [
      "input\n",
      "input  [[1, 916, 748, 264, 7, 166, 42, 2812], [1, 5841, 112, 7260, 9, 3998, 6471, 3, 5553, 2758, 4, 444], [1, 265, 3430, 179, 5084, 5296, 1422, 2584, 22], [1, 3999, 6, 1009, 2071, 569, 51, 93, 11, 38, 55], [1, 2759, 1881, 3025, 4, 8]]\n",
      "target\n",
      "decoder  [[916, 748, 264, 7, 166, 42, 2812, 2], [5841, 112, 7260, 9, 3998, 6471, 3, 5553, 2758, 4, 444, 2], [265, 3430, 179, 5084, 5296, 1422, 2584, 22, 2], [3999, 6, 1009, 2071, 569, 51, 93, 11, 38, 55, 2], [2759, 1881, 3025, 4, 8, 2]]\n"
     ]
    }
   ],
   "source": [
    "# 8000으로 제한하고 제거\n",
    "tar_vocab = 8000\n",
    "tar_tokenizer = Tokenizer(num_words=tar_vocab) \n",
    "tar_tokenizer.fit_on_texts(decoder_input_train)\n",
    "tar_tokenizer.fit_on_texts(decoder_target_train)\n",
    "\n",
    "# 텍스트 시퀀스를 정수 시퀀스로 변환\n",
    "decoder_input_train = tar_tokenizer.texts_to_sequences(decoder_input_train) \n",
    "decoder_target_train = tar_tokenizer.texts_to_sequences(decoder_target_train)\n",
    "decoder_input_test = tar_tokenizer.texts_to_sequences(decoder_input_test)\n",
    "decoder_target_test = tar_tokenizer.texts_to_sequences(decoder_target_test)\n",
    "\n",
    "# 잘 변환되었는지 확인\n",
    "print('input')\n",
    "print('input ',decoder_input_train[:5])\n",
    "print('target')\n",
    "print('decoder ',decoder_target_train[:5])"
   ]
  },
  {
   "cell_type": "markdown",
   "id": "47a69083",
   "metadata": {},
   "source": [
    "정수 인코딩 후, 패딩 작업 전 점검 사항\n",
    "\n",
    "- 전체 데이터에서 빈도수가 낮은 단어가 삭제된 것은 빈 샘플이 생겼을 가능성이 높아졌음을 의미\n",
    "- 특히 headlines \n",
    "\n",
    "headlines중 길이가 0이 된 샘플의 인덱스를 받아온다\n",
    "\n",
    "주의할 점 : headlines인 decoder_input에는 sostoken 또는 decoder_target에는 eostoken이 추가된 상태이고, 이 두 토큰은 모든 샘플에서 등장하므로 빈도수가 샘플수와 동일하게 매우 높다. 그래서 단어집합 제한에도 삭제되지 않을 것임\n",
    "\n",
    "그러니까 길이가 0이 된 요약문의 실제 길이는 1로 나올 것이다"
   ]
  },
  {
   "cell_type": "code",
   "execution_count": 47,
   "id": "a26eb33c",
   "metadata": {},
   "outputs": [
    {
     "name": "stdout",
     "output_type": "stream",
     "text": [
      "삭제할 훈련 데이터의 개수 : 1\n",
      "삭제할 테스트 데이터의 개수 : 0\n",
      "훈련 데이터의 개수 : 71819\n",
      "훈련 레이블의 개수 : 71819\n",
      "테스트 데이터의 개수 : 17955\n",
      "테스트 레이블의 개수 : 17955\n"
     ]
    }
   ],
   "source": [
    "# 훈련과 테스트 데이터에서 요약문 길이가 1인 경우의 인덱스를 각각 drop_train과 drop_test에 저장\n",
    "# 삭제할것임\n",
    "drop_train = [index for index, sentence in enumerate(decoder_input_train) if len(sentence) == 1]\n",
    "drop_test = [index for index, sentence in enumerate(decoder_input_test) if len(sentence) == 1]\n",
    "\n",
    "print('삭제할 훈련 데이터의 개수 :', len(drop_train))\n",
    "print('삭제할 테스트 데이터의 개수 :', len(drop_test))\n",
    "\n",
    "encoder_input_train = [sentence for index, sentence in enumerate(encoder_input_train) if index not in drop_train]\n",
    "decoder_input_train = [sentence for index, sentence in enumerate(decoder_input_train) if index not in drop_train]\n",
    "decoder_target_train = [sentence for index, sentence in enumerate(decoder_target_train) if index not in drop_train]\n",
    "\n",
    "encoder_input_test = [sentence for index, sentence in enumerate(encoder_input_test) if index not in drop_test]\n",
    "decoder_input_test = [sentence for index, sentence in enumerate(decoder_input_test) if index not in drop_test]\n",
    "decoder_target_test = [sentence for index, sentence in enumerate(decoder_target_test) if index not in drop_test]\n",
    "\n",
    "print('훈련 데이터의 개수 :', len(encoder_input_train))\n",
    "print('훈련 레이블의 개수 :', len(decoder_input_train))\n",
    "print('테스트 데이터의 개수 :', len(encoder_input_test))\n",
    "print('테스트 레이블의 개수 :', len(decoder_input_test))"
   ]
  },
  {
   "cell_type": "markdown",
   "id": "ceb27724",
   "metadata": {},
   "source": [
    "### 패딩하기\n"
   ]
  },
  {
   "cell_type": "code",
   "execution_count": 50,
   "id": "6f13a85e",
   "metadata": {},
   "outputs": [],
   "source": [
    "# 최대 길이보다 짧은 데이터들은 뒤에 0을 넣어서 길이 맞춰준다\n",
    "encoder_input_train = pad_sequences(encoder_input_train, maxlen=text_max_len, padding='post')\n",
    "encoder_input_test = pad_sequences(encoder_input_test, maxlen=text_max_len, padding='post')\n",
    "decoder_input_train = pad_sequences(decoder_input_train, maxlen=headlines_max_len, padding='post')\n",
    "decoder_target_train = pad_sequences(decoder_target_train, maxlen=headlines_max_len, padding='post')\n",
    "decoder_input_test = pad_sequences(decoder_input_test, maxlen=headlines_max_len, padding='post')\n",
    "decoder_target_test = pad_sequences(decoder_target_test, maxlen=headlines_max_len, padding='post')"
   ]
  },
  {
   "cell_type": "markdown",
   "id": "1957eea2",
   "metadata": {},
   "source": [
    "학습용 데이터 전처리 완료"
   ]
  },
  {
   "cell_type": "markdown",
   "id": "2bbd6e1b",
   "metadata": {},
   "source": [
    "# Step 3. 어텐션 메커니즘 사용하기 (추상적 요약)"
   ]
  },
  {
   "cell_type": "markdown",
   "id": "1553d79c",
   "metadata": {},
   "source": [
    "## (1) 모델 설계하기"
   ]
  },
  {
   "cell_type": "code",
   "execution_count": 56,
   "id": "edea0651",
   "metadata": {},
   "outputs": [
    {
     "name": "stdout",
     "output_type": "stream",
     "text": [
      "WARNING:tensorflow:Layer lstm_8 will not use cuDNN kernels since it doesn't meet the criteria. It will use a generic GPU kernel as fallback when running on GPU.\n",
      "WARNING:tensorflow:Layer lstm_9 will not use cuDNN kernels since it doesn't meet the criteria. It will use a generic GPU kernel as fallback when running on GPU.\n",
      "WARNING:tensorflow:Layer lstm_10 will not use cuDNN kernels since it doesn't meet the criteria. It will use a generic GPU kernel as fallback when running on GPU.\n",
      "WARNING:tensorflow:Layer lstm_11 will not use cuDNN kernels since it doesn't meet the criteria. It will use a generic GPU kernel as fallback when running on GPU.\n",
      "Model: \"model_2\"\n",
      "__________________________________________________________________________________________________\n",
      "Layer (type)                    Output Shape         Param #     Connected to                     \n",
      "==================================================================================================\n",
      "input_5 (InputLayer)            [(None, 40)]         0                                            \n",
      "__________________________________________________________________________________________________\n",
      "embedding_4 (Embedding)         (None, 40, 128)      2304000     input_5[0][0]                    \n",
      "__________________________________________________________________________________________________\n",
      "lstm_8 (LSTM)                   [(None, 40, 256), (N 394240      embedding_4[0][0]                \n",
      "__________________________________________________________________________________________________\n",
      "input_6 (InputLayer)            [(None, None)]       0                                            \n",
      "__________________________________________________________________________________________________\n",
      "lstm_9 (LSTM)                   [(None, 40, 256), (N 525312      lstm_8[0][0]                     \n",
      "__________________________________________________________________________________________________\n",
      "embedding_5 (Embedding)         (None, None, 128)    1024000     input_6[0][0]                    \n",
      "__________________________________________________________________________________________________\n",
      "lstm_10 (LSTM)                  [(None, 40, 256), (N 525312      lstm_9[0][0]                     \n",
      "__________________________________________________________________________________________________\n",
      "lstm_11 (LSTM)                  [(None, None, 256),  394240      embedding_5[0][0]                \n",
      "                                                                 lstm_10[0][1]                    \n",
      "                                                                 lstm_10[0][2]                    \n",
      "__________________________________________________________________________________________________\n",
      "attention_layer (AdditiveAttent (None, None, 256)    256         lstm_11[0][0]                    \n",
      "                                                                 lstm_10[0][0]                    \n",
      "__________________________________________________________________________________________________\n",
      "concat_layer (Concatenate)      (None, None, 512)    0           lstm_11[0][0]                    \n",
      "                                                                 attention_layer[0][0]            \n",
      "__________________________________________________________________________________________________\n",
      "dense_2 (Dense)                 (None, None, 8000)   4104000     concat_layer[0][0]               \n",
      "==================================================================================================\n",
      "Total params: 9,271,360\n",
      "Trainable params: 9,271,360\n",
      "Non-trainable params: 0\n",
      "__________________________________________________________________________________________________\n"
     ]
    }
   ],
   "source": [
    "from tensorflow.keras.layers import Input, LSTM, Embedding, Dense, Concatenate, TimeDistributed\n",
    "from tensorflow.keras.models import Model\n",
    "from tensorflow.keras.callbacks import EarlyStopping, ModelCheckpoint\n",
    "from tensorflow.keras.layers import AdditiveAttention\n",
    "\n",
    "# 인코더 설계 시작\n",
    "embedding_dim = 128 # 임베딩 벡터 차원 128\n",
    "hidden_size = 256   # hidden state는 용량의 크기, LSTM에서의 뉴련의 개수\n",
    "\n",
    "# 인코더\n",
    "encoder_inputs = Input(shape=(text_max_len,))\n",
    "\n",
    "# 인코더의 임베딩 층\n",
    "enc_emb = Embedding(src_vocab, embedding_dim)(encoder_inputs)\n",
    "\n",
    "# 인코더의 LSTM 1\n",
    "encoder_lstm1 = LSTM(hidden_size, return_sequences=True, return_state=True ,dropout = 0.4, recurrent_dropout = 0.4)\n",
    "encoder_output1, state_h1, state_c1 = encoder_lstm1(enc_emb)\n",
    "\n",
    "# 인코더의 LSTM 2\n",
    "encoder_lstm2 = LSTM(hidden_size, return_sequences=True, return_state=True, dropout=0.4, recurrent_dropout=0.4)\n",
    "encoder_output2, state_h2, state_c2 = encoder_lstm2(encoder_output1)\n",
    "\n",
    "# 인코더의 LSTM 3\n",
    "encoder_lstm3 = LSTM(hidden_size, return_state=True, return_sequences=True, dropout=0.4, recurrent_dropout=0.4)\n",
    "encoder_outputs, state_h, state_c= encoder_lstm3(encoder_output2)\n",
    "\n",
    "# 디코더 설계\n",
    "decoder_inputs = Input(shape=(None,))\n",
    "\n",
    "# 디코더의 임베딩 층\n",
    "dec_emb_layer = Embedding(tar_vocab, embedding_dim)\n",
    "dec_emb = dec_emb_layer(decoder_inputs)\n",
    "\n",
    "# 디코더의 LSTM\n",
    "decoder_lstm = LSTM(hidden_size, return_sequences=True, return_state=True, dropout=0.4, recurrent_dropout=0.2)\n",
    "decoder_outputs, _, _ = decoder_lstm(dec_emb, initial_state=[state_h, state_c])\n",
    "\n",
    "# 어텐션 층(어텐션 함수)\n",
    "attn_layer = AdditiveAttention(name='attention_layer')\n",
    "\n",
    "# 인코더와 디코더의 모든 time step의 hidden state를 어텐션 층에 전달하고 결과를 리턴\n",
    "attn_out = attn_layer([decoder_outputs, encoder_outputs])\n",
    "\n",
    "\n",
    "# 어텐션의 결과와 디코더의 hidden state들을 연결\n",
    "decoder_concat_input = Concatenate(axis=-1, name='concat_layer')([decoder_outputs, attn_out])\n",
    "\n",
    "# 디코더의 출력층\n",
    "decoder_softmax_layer = Dense(tar_vocab, activation='softmax')\n",
    "decoder_softmax_outputs = decoder_softmax_layer(decoder_concat_input)\n",
    "\n",
    "# 모델 정의\n",
    "model = Model([encoder_inputs, decoder_inputs], decoder_softmax_outputs)\n",
    "model.summary()"
   ]
  },
  {
   "cell_type": "markdown",
   "id": "b7a7779f",
   "metadata": {},
   "source": [
    "## (2) 모델 훈련하기"
   ]
  },
  {
   "cell_type": "code",
   "execution_count": 57,
   "id": "6dd4016d",
   "metadata": {},
   "outputs": [
    {
     "name": "stdout",
     "output_type": "stream",
     "text": [
      "Epoch 1/50\n",
      "141/141 [==============================] - 91s 590ms/step - loss: 5.6562 - val_loss: 5.2853\n",
      "Epoch 2/50\n",
      "141/141 [==============================] - 82s 581ms/step - loss: 5.1348 - val_loss: 4.9238\n",
      "Epoch 3/50\n",
      "141/141 [==============================] - 82s 583ms/step - loss: 4.8374 - val_loss: 4.7193\n",
      "Epoch 4/50\n",
      "141/141 [==============================] - 82s 585ms/step - loss: 4.5914 - val_loss: 4.4938\n",
      "Epoch 5/50\n",
      "141/141 [==============================] - 82s 583ms/step - loss: 4.3729 - val_loss: 4.3383\n",
      "Epoch 6/50\n",
      "141/141 [==============================] - 82s 582ms/step - loss: 4.1937 - val_loss: 4.2154\n",
      "Epoch 7/50\n",
      "141/141 [==============================] - 82s 582ms/step - loss: 4.0434 - val_loss: 4.0984\n",
      "Epoch 8/50\n",
      "141/141 [==============================] - 82s 580ms/step - loss: 3.9092 - val_loss: 4.0230\n",
      "Epoch 9/50\n",
      "141/141 [==============================] - 83s 585ms/step - loss: 3.7899 - val_loss: 3.9441\n",
      "Epoch 10/50\n",
      "141/141 [==============================] - 82s 582ms/step - loss: 3.6819 - val_loss: 3.8991\n",
      "Epoch 11/50\n",
      "141/141 [==============================] - 82s 579ms/step - loss: 3.5849 - val_loss: 3.8347\n",
      "Epoch 12/50\n",
      "141/141 [==============================] - 82s 581ms/step - loss: 3.4966 - val_loss: 3.7932\n",
      "Epoch 13/50\n",
      "141/141 [==============================] - 82s 581ms/step - loss: 3.4161 - val_loss: 3.7525\n",
      "Epoch 14/50\n",
      "141/141 [==============================] - 82s 582ms/step - loss: 3.3396 - val_loss: 3.7267\n",
      "Epoch 15/50\n",
      "141/141 [==============================] - 82s 580ms/step - loss: 3.2697 - val_loss: 3.6979\n",
      "Epoch 16/50\n",
      "141/141 [==============================] - 82s 580ms/step - loss: 3.2034 - val_loss: 3.6775\n",
      "Epoch 17/50\n",
      "141/141 [==============================] - 82s 581ms/step - loss: 3.1410 - val_loss: 3.6509\n",
      "Epoch 18/50\n",
      "141/141 [==============================] - 82s 583ms/step - loss: 3.0840 - val_loss: 3.6292\n",
      "Epoch 19/50\n",
      "141/141 [==============================] - 82s 580ms/step - loss: 3.0282 - val_loss: 3.6298\n",
      "Epoch 20/50\n",
      "141/141 [==============================] - 84s 593ms/step - loss: 2.9769 - val_loss: 3.6027\n",
      "Epoch 21/50\n",
      "141/141 [==============================] - 82s 580ms/step - loss: 2.9268 - val_loss: 3.5949\n",
      "Epoch 22/50\n",
      "141/141 [==============================] - 82s 580ms/step - loss: 2.8800 - val_loss: 3.5800\n",
      "Epoch 23/50\n",
      "141/141 [==============================] - 82s 582ms/step - loss: 2.8345 - val_loss: 3.5779\n",
      "Epoch 24/50\n",
      "141/141 [==============================] - 82s 579ms/step - loss: 2.7922 - val_loss: 3.5758\n",
      "Epoch 25/50\n",
      "141/141 [==============================] - 82s 578ms/step - loss: 2.7497 - val_loss: 3.5701\n",
      "Epoch 26/50\n",
      "141/141 [==============================] - 82s 580ms/step - loss: 2.7108 - val_loss: 3.5626\n",
      "Epoch 27/50\n",
      "141/141 [==============================] - 82s 581ms/step - loss: 2.6738 - val_loss: 3.5612\n",
      "Epoch 28/50\n",
      "141/141 [==============================] - 82s 578ms/step - loss: 2.6371 - val_loss: 3.5615\n",
      "Epoch 29/50\n",
      "141/141 [==============================] - 81s 575ms/step - loss: 2.6019 - val_loss: 3.5581\n",
      "Epoch 30/50\n",
      "141/141 [==============================] - 81s 577ms/step - loss: 2.5683 - val_loss: 3.5561\n",
      "Epoch 31/50\n",
      "141/141 [==============================] - 82s 579ms/step - loss: 2.5351 - val_loss: 3.5566\n",
      "Epoch 32/50\n",
      "141/141 [==============================] - 82s 579ms/step - loss: 2.5051 - val_loss: 3.5570\n",
      "Epoch 00032: early stopping\n"
     ]
    }
   ],
   "source": [
    "# 설계한 모델로 훈련 진행하기\n",
    "\n",
    "model.compile(optimizer='rmsprop', loss='sparse_categorical_crossentropy')\n",
    "es = EarlyStopping(monitor='val_loss', patience=2, verbose=1) # 특정 조건이 충족되면 훈련을 멈추는 역할\n",
    "history = model.fit(x=[encoder_input_train, decoder_input_train], y=decoder_target_train, \\\n",
    "          validation_data=([encoder_input_test, decoder_input_test], decoder_target_test), \\\n",
    "          batch_size=512, callbacks=[es], epochs=50)"
   ]
  },
  {
   "cell_type": "code",
   "execution_count": 59,
   "id": "c853f460",
   "metadata": {},
   "outputs": [
    {
     "data": {
      "image/png": "[encoded data removed]",
      "text/plain": [
       "<Figure size 432x288 with 1 Axes>"
      ]
     },
     "metadata": {
      "needs_background": "light"
     },
     "output_type": "display_data"
    }
   ],
   "source": [
    "# 훈련 데이터의 손실과 검증 데이터의 손실이 줄어드는 과정 시각화\n",
    "\n",
    "plt.plot(history.history['loss'], label='train')\n",
    "plt.plot(history.history['val_loss'], label='test')\n",
    "plt.legend()\n",
    "plt.show()"
   ]
  },
  {
   "cell_type": "markdown",
   "id": "82266645",
   "metadata": {},
   "source": [
    "## (3) 인퍼런스 모델 구현\n",
    "\n",
    "- 테스트 단계에서 정수 인덱스 행렬로 존재하던 텍스트 데이터를 실제 데이터로 복원해야함\n",
    "- 3개의 사전 미리 준비"
   ]
  },
  {
   "cell_type": "code",
   "execution_count": 60,
   "id": "88fbfd04",
   "metadata": {},
   "outputs": [],
   "source": [
    "src_index_to_word = src_tokenizer.index_word # 원문 단어 집합에서 정수 -> 단어를 얻음\n",
    "tar_word_to_index = tar_tokenizer.word_index # 요약 단어 집합에서 단어 -> 정수를 얻음\n",
    "tar_index_to_word = tar_tokenizer.index_word # 요약 단어 집합에서 정수 -> 단어를 얻음"
   ]
  },
  {
   "cell_type": "markdown",
   "id": "9e799021",
   "metadata": {},
   "source": [
    "- seq2seq는 훈련할 때와 실제 동작할 때(인퍼런스 단계)의 방식이 다르므로 그에 맞게 모델 설계를 별개로 진행\n",
    "- 훈련 단계 : 인코더와 디코더를 엮은 하나의 모델 준비\n",
    "- 정답이 없는 인퍼런스 단계 : 인코더와 디코더를 분리해서 설계"
   ]
  },
  {
   "cell_type": "code",
   "execution_count": 61,
   "id": "1d662d4b",
   "metadata": {},
   "outputs": [],
   "source": [
    "# 인코더 설계\n",
    "encoder_model = Model(inputs=encoder_inputs, outputs=[encoder_outputs, state_h, state_c])\n",
    "\n",
    "# 이전 시점의 상태들을 저장하는 텐서\n",
    "decoder_state_input_h = Input(shape=(hidden_size,))\n",
    "decoder_state_input_c = Input(shape=(hidden_size,))\n",
    "\n",
    "dec_emb2 = dec_emb_layer(decoder_inputs)\n",
    "\n",
    "# 문장의 다음 단어를 예측하기 위해서 초기 상태(initial_state)를 이전 시점의 상태로 사용. 이는 뒤의 함수 decode_sequence()에 구현\n",
    "# 훈련 과정에서와 달리 LSTM의 리턴하는 은닉 상태와 셀 상태인 state_h와 state_c를 버리지 않음.\n",
    "decoder_outputs2, state_h2, state_c2 = decoder_lstm(dec_emb2, initial_state=[decoder_state_input_h, decoder_state_input_c])\n",
    "\n",
    "# 어텐션 함수\n",
    "decoder_hidden_state_input = Input(shape=(text_max_len, hidden_size))\n",
    "attn_out_inf = attn_layer([decoder_outputs2, decoder_hidden_state_input])\n",
    "decoder_inf_concat = Concatenate(axis=-1, name='concat')([decoder_outputs2, attn_out_inf])\n",
    "\n",
    "# 디코더의 출력층\n",
    "decoder_outputs2 = decoder_softmax_layer(decoder_inf_concat) \n",
    "\n",
    "# 최종 디코더 모델\n",
    "decoder_model = Model(\n",
    "    [decoder_inputs] + [decoder_hidden_state_input,decoder_state_input_h, decoder_state_input_c],\n",
    "    [decoder_outputs2] + [state_h2, state_c2])"
   ]
  },
  {
   "cell_type": "code",
   "execution_count": 97,
   "id": "04a30c34",
   "metadata": {},
   "outputs": [
    {
     "name": "stdout",
     "output_type": "stream",
     "text": [
      "Model: \"model_3\"\n",
      "_________________________________________________________________\n",
      "Layer (type)                 Output Shape              Param #   \n",
      "=================================================================\n",
      "input_5 (InputLayer)         [(None, 40)]              0         \n",
      "_________________________________________________________________\n",
      "embedding_4 (Embedding)      (None, 40, 128)           2304000   \n",
      "_________________________________________________________________\n",
      "lstm_8 (LSTM)                [(None, 40, 256), (None,  394240    \n",
      "_________________________________________________________________\n",
      "lstm_9 (LSTM)                [(None, 40, 256), (None,  525312    \n",
      "_________________________________________________________________\n",
      "lstm_10 (LSTM)               [(None, 40, 256), (None,  525312    \n",
      "=================================================================\n",
      "Total params: 3,748,864\n",
      "Trainable params: 3,748,864\n",
      "Non-trainable params: 0\n",
      "_________________________________________________________________\n"
     ]
    }
   ],
   "source": [
    "encoder_model.summary()"
   ]
  },
  {
   "cell_type": "code",
   "execution_count": 98,
   "id": "36286935",
   "metadata": {},
   "outputs": [],
   "source": [
    "# 인퍼런스 단계에서 단어 시퀀스를 완성하는 함수 만들기\n",
    "def decode_sequence(input_seq):\n",
    "    # 입력으로부터 인코더의 상태를 얻음\n",
    "    e_out, e_h, e_c = encoder_model.predict(input_seq)\n",
    "\n",
    "     # <SOS>에 해당하는 토큰 생성\n",
    "    target_seq = np.zeros((1,1))\n",
    "    target_seq[0, 0] = tar_word_to_index['sostoken']\n",
    "\n",
    "    stop_condition = False\n",
    "    decoded_sentence = ''\n",
    "    while not stop_condition: # stop_condition이 True가 될 때까지 루프 반복\n",
    "\n",
    "        output_tokens, h, c = decoder_model.predict([target_seq] + [e_out, e_h, e_c])\n",
    "        sampled_token_index = np.argmax(output_tokens[0, -1, :])\n",
    "        sampled_token = tar_index_to_word[sampled_token_index]\n",
    "\n",
    "        if (sampled_token!='eostoken'):\n",
    "            decoded_sentence += ' '+sampled_token\n",
    "\n",
    "        #  <eos>에 도달하거나 최대 길이를 넘으면 중단.\n",
    "        if (sampled_token == 'eostoken'  or len(decoded_sentence.split()) >= (headlines_max_len-1)):\n",
    "            stop_condition = True\n",
    "\n",
    "        # 길이가 1인 타겟 시퀀스를 업데이트\n",
    "        target_seq = np.zeros((1,1))\n",
    "        target_seq[0, 0] = sampled_token_index\n",
    "\n",
    "        # 상태를 업데이트 합니다.\n",
    "        e_h, e_c = h, c\n",
    "\n",
    "    return decoded_sentence"
   ]
  },
  {
   "cell_type": "markdown",
   "id": "9665d8a7",
   "metadata": {},
   "source": [
    "# Step 4. 실제 결과와 요약문 비교하기 (추상적 요약)\n",
    "\n",
    "원래의 요약문(headlines 열)과 학습을 통해 얻은 추상적 요약의 결과를 비교"
   ]
  },
  {
   "cell_type": "markdown",
   "id": "18f6de52",
   "metadata": {},
   "source": [
    "## 모델 테스트하기"
   ]
  },
  {
   "cell_type": "code",
   "execution_count": 99,
   "id": "bd31cfde",
   "metadata": {},
   "outputs": [],
   "source": [
    "# 원문의 정수 시퀀스를 텍스트 시퀀스로 변환\n",
    "def seq2text(input_seq):\n",
    "    temp=''\n",
    "    for i in input_seq:\n",
    "        if (i!=0):\n",
    "            temp = temp + src_index_to_word[i]+' '\n",
    "    return temp\n",
    "\n",
    "# 요약문의 정수 시퀀스를 텍스트 시퀀스로 변환\n",
    "def seq2summary(input_seq):\n",
    "    temp=''\n",
    "    for i in input_seq:\n",
    "        if ((i!=0 and i!=tar_word_to_index['sostoken']) and i!=tar_word_to_index['eostoken']):\n",
    "            temp = temp + tar_index_to_word[i] + ' '\n",
    "    return temp"
   ]
  },
  {
   "cell_type": "code",
   "execution_count": 100,
   "id": "52d759fe",
   "metadata": {},
   "outputs": [
    {
     "name": "stdout",
     "output_type": "stream",
     "text": [
      "원문 : recalling getting sweeping test new zealand ex australia leg spinner shane warne said still genuinely asks go single adding silence dressing room warne said walked straight shower area lit cigarette beer went idiot everyone started laughing \n",
      "실제 요약 : had beer cigarette went you idiot warne on getting out at \n",
      "예측 요약 :  never knew about me warne on australian pacer\n",
      "\n",
      "\n",
      "원문 : indian railways stop providing free travel insurance ticket passengers september year senior railways ministry official said saturday booking tickets passengers choose two options either opt opt travel insurance amount travel insurance disclosed yet \n",
      "실제 요약 : railways to free travel insurance from sept \n",
      "예측 요약 :  railways to charge extra for booking of tickets\n",
      "\n",
      "\n",
      "원문 : us government network infected malware employee accessed porn sites work computer investigators found audit revealed unnamed employee visited thousands porn pages containing malware downloaded laptop exploited network employee android phone connected government issued computer also infected \n",
      "실제 요약 : us govt network hit with malware after employee watches porn \n",
      "예측 요약 :  us bug allows users to find users to find users\n",
      "\n",
      "\n",
      "원문 : ex bangladeshi cricketer mohammad became youngest centurion test cricket history scoring sri lanka september age years days batsman broke almost year old record pakistan mushtaq mohammad could save side suffering innings defeat hands sri lanka \n",
      "실제 요약 : test cricket youngest could not save innings loss \n",
      "예측 요약 :  yr old indian cricketer scores in test innings\n",
      "\n",
      "\n",
      "원문 : rbi accepted government proposal recall banknotes getting increasingly difficult differentiate genuine counterfeit currency notes central bank said rbi saw opportunity put end menace counterfeit notes particularly introduction new design notes added \n",
      "실제 요약 : accepted note ban proposal due to fake notes rbi \n",
      "예측 요약 :  rbi asks rbi to remain in notes to remain valid\n",
      "\n",
      "\n",
      "원문 : parliamentary panel decided invite indian international experts examine electronic voting machines tampered parliamentary standing committee personnel public grievances law justice received several petitions questioning reliability evms panel said bsp supremo mayawati blamed evms party loss \n",
      "실제 요약 : parliamentary panel to seek expert help to test evms \n",
      "예측 요약 :  simultaneous polls to be extended till july\n",
      "\n",
      "\n",
      "원문 : law mandating equal pay men women iceland came effect monday making first country legislation businesses government agencies employing least people need obtain equal pay policies certification would face fines world economic forum ranked iceland world gender equal country \n",
      "실제 요약 : law making equal pay mandatory comes into effect \n",
      "예측 요약 :  uk to allow women to end women visas for women\n",
      "\n",
      "\n",
      "원문 : passenger aircraft made emergency landing moscow russia dog opened luggage compartment inside triggering alarm onboard alarm went passenger aircraft altitude metres following emergency landing revealed dog cage properly locked \n",
      "실제 요약 : dog opens luggage mid flight forces landing \n",
      "예측 요약 :  plane makes emergency landing after landing in us\n",
      "\n",
      "\n",
      "원문 : speaking summit saturday french president emmanuel macron announced paris host summit december address financing issues paris climate agreement macron added summit would aim private public financing projects committed paris agreement \n",
      "실제 요약 : paris to host summit on second anniversary of climate deal \n",
      "예측 요약 :  french prez macron to paris climate change\n",
      "\n",
      "\n",
      "원문 : actor saif ali khan daughter sara ali khan spotted actor sushant singh rajput star debut film kedarnath film director abhishek kapoor sara mother amrita singh also spotted earlier reported sara would make bollywood debut karan johar student year \n",
      "실제 요약 : sara spotted with sushant her co star in debut film \n",
      "예측 요약 :  sara ali khan sara ali khan kedarnath sara kedarnath\n",
      "\n",
      "\n",
      "원문 : former google software engineer james damore fired week writing anti diversity memo posed photographs outside technology giant headquarters california damore held sign said fired truth wore shirt altered logo google read reference forced labour camps soviet union \n",
      "실제 요약 : fired engineer poses for photos outside google headquarters \n",
      "예측 요약 :  google employee fired over memo memo on fb memo\n",
      "\n",
      "\n",
      "원문 : uk prime minister theresa may said trusts donald trump listens us president tells work together special relationship two people reflecting leaders two countries added however may also admitted disagreements us leader \n",
      "실제 요약 : uk pm theresa may says she donald trump \n",
      "예측 요약 :  trump calls us pm theresa may be in us\n",
      "\n",
      "\n",
      "원문 : india current account deficit stood billion widening gdp september quarter compared year ago period reserve bank india friday said mainly due large trade deficit current account deficit difference foreign exchange country current account \n",
      "실제 요약 : india current account deficit widens to of gdp in \n",
      "예측 요약 :  india trade deficit hits month low of in fy\n",
      "\n",
      "\n",
      "원문 : apple reportedly planning use wireless chip near field communication chip iphones unlock doors enabled technology reports claim apple employees already using iphones gain access apple park buildings feature part ios update likely announced next month \n",
      "실제 요약 : apple new update to allow iphones to unlock doors report \n",
      "예측 요약 :  apple to launch iphone iphones in report\n",
      "\n",
      "\n",
      "원문 : review analysis himachal pradesh assembly elections loss congress members blamed infighting sabotage local leaders lack resources reason defeat reportedly leaders also presented audio visual proofs sabotage congress tally member state assembly came seats secured election \n",
      "실제 요약 : cong blames crunch for loss in himachal \n",
      "예측 요약 :  tripura govt to fight himachal pradesh\n",
      "\n",
      "\n",
      "원문 : asserting entitled luxury gujarat director general police pp pandey ordered removal air conditioners police stations across state order stated air conditioners added electricity bill also made officers avoid patrolling outdoor duties indoor comfort \n",
      "실제 요약 : gujarat dgp orders removal of from police stations \n",
      "예측 요약 :  hyd police to be held for non veg norms\n",
      "\n",
      "\n",
      "원문 : bipasha basu recently featured advertisement condom brand husband karan singh grover said anything wrong endorsing condoms bipasha added idea create awareness subject need hour bipasha added society needs address topics \n",
      "실제 요약 : am doing no wrong by condoms bipasha \n",
      "예측 요약 :  do not believe in bigg boss juhi on bigg boss\n",
      "\n",
      "\n",
      "원문 : photographer posted picture kerala school vulgar uniform booked pocso act school filed case first posted picture facebook page saying received friend school claimed picture photoshopped actual uniform issued \n",
      "실제 요약 : photographer booked over pics of vulgar girls uniform \n",
      "예측 요약 :  kerala nun alleges rape after being forced to\n",
      "\n",
      "\n",
      "원문 : uk developing first vertical send satellites orbit billionaire richard branson backed virgin orbit announced modified boeing aircraft launch rockets mid air make airport first uk traditional vertical launch built sutherland scotland early \n",
      "실제 요약 : uk to build st rocket launch sites virgin to debut flights \n",
      "예측 요약 :  spacex launches world most powerful rocket\n",
      "\n",
      "\n",
      "원문 : first look ranbir kapoor upcoming film revealed ranbir seen dacoit film directed filmmaker karan malhotra growing watching hindi cinema image film hero allows everything imagined said ranbir \n",
      "실제 요약 : first look of ranbir kapoor from revealed \n",
      "예측 요약 :  sanjay dutt to star in ranbir\n",
      "\n",
      "\n",
      "원문 : uidai ceo ajay bhushan pandey blocked biometrics used authentication mode aadhaar revealed presentation supreme court aimed demonstrating safety aadhaar technological framework interestingly attempts made bhushan aadhaar resulted failure \n",
      "실제 요약 : uidai ceo locked his for aadhaar \n",
      "예측 요약 :  aadhaar leak of aadhaar leak uidai\n",
      "\n",
      "\n",
      "원문 : recovery us made rifle meant pakistan army encounter militants shows force insurgency major general bs raju said tuesday recovered site encounter three jaish mohammed militants including chief masood azhar nephew killed monday \n",
      "실제 요약 : seized us made gun shows pak army hand in militancy army \n",
      "예측 요약 :  terrorists killed in encounter in pakistan\n",
      "\n",
      "\n",
      "원문 : bjp pulled alliance pdp repeated attacks forces civilians valley announcing split bjp general secretary ram madhav said centre tried end end pained say state government also part failed control valley situation \n",
      "실제 요약 : bjp pulls out of alliance with pdp in jammu kashmir \n"
     ]
    },
    {
     "name": "stdout",
     "output_type": "stream",
     "text": [
      "예측 요약 :  bjp will not ally with any party in tmc\n",
      "\n",
      "\n",
      "원문 : apple vp software engineering craig mocked google android operating system company event said ios users currently running ios android users last oreo version look competition hard say really software update model added \n",
      "실제 요약 : apple mocks android on stage at event \n",
      "예측 요약 :  apple ios ios to remove ios from ios\n",
      "\n",
      "\n",
      "원문 : scientists upper limit cosmic optical background total amount light produced galaxies universe measurements made using nasa new horizons spacecraft currently beyond pluto belt findings would reveal number location stars also giving insights dark matter scientists said \n",
      "실제 요약 : scientists measure of universe with nasa probes \n",
      "예측 요약 :  astronomers spot planets in milky way for st time\n",
      "\n",
      "\n",
      "원문 : pop marriage licence kiosk opened las vegas airport passengers wishing get married several couples already gotten married pop kiosk remain open february meanwhile couples must pay marriage licence \n",
      "실제 요약 : passengers can get marriage licence at las vegas airport \n",
      "예측 요약 :  couple to get married to couple in couple\n",
      "\n",
      "\n",
      "원문 : volkswagen halted possible sale ducati motorcycle unit amid persistent opposition labour groups according italian union leader volkswagen considered selling ducati part asset review started last year examine options operations fit car truck focus ducati sale could generated billion \n",
      "실제 요약 : volkswagen withdraws sale amid unions opposition \n",
      "예측 요약 :  volkswagen plans to buy tesla cars in next month\n",
      "\n",
      "\n",
      "원문 : meghan markle father thomas markle refused attend daughter wedding uk prince harry according reports year old reportedly took decision amid allegations photo agency stage pictures preparing wedding day deeply personal moment ms markle royal spokesperson said \n",
      "실제 요약 : meghan markle father to not attend royal wedding reports \n",
      "예측 요약 :  prince harry meghan markle wedding to be auctioned\n",
      "\n",
      "\n",
      "원문 : reliance industries denied reports chairman mukesh ambani met alibaba chairman jack july end mumbai discuss joint venture reports claimed alibaba talks acquire stake reliance retail billion reliance said discussion alibaba anyone else reliance retail stake sale \n",
      "실제 요약 : no meeting between mukesh ambani and jack ma in july ril \n",
      "예측 요약 :  reliance industries to raise crore in talks with reliance\n",
      "\n",
      "\n",
      "원문 : man russia recently filled wife car cement legally changed surname supermarket promotion changed name supermarket stated would pay monthly customers changed surname brand name video footage shows man directing mixing lorry pour cement car \n",
      "실제 요약 : man wife car with as she changed surname \n",
      "예측 요약 :  russian woman uses bill to give to give to man\n",
      "\n",
      "\n",
      "원문 : union cabinet approved hike allowance central government employees relief pensioners effect july impact exchequer account hike crore per annum move expected benefit lakh central government employees lakh pensioners \n",
      "실제 요약 : cabinet approves hike in da for central govt employees \n",
      "예측 요약 :  govt approves hike for govt subsidy\n",
      "\n",
      "\n",
      "원문 : mumbai police filed chargesheet wadia co owns kings xi punjab along preity zinta nearly four years actress filed complaint accusing wadia molesting alleged incident occurred ipl match mumbai may wadia granted bail personal following chargesheet \n",
      "실제 요약 : in preity zinta molestation case \n",
      "예측 요약 :  fir against gambhir for ipl scam\n",
      "\n",
      "\n",
      "원문 : four accused journalist gauri lankesh murder alleged custodial torture claiming police slapped beat punched advocate accused also claimed magistrate order medical examination accused despite informed torture stating allegations serious karnataka high court asked two magistrate courts submit report \n",
      "실제 요약 : accused in journo gauri lankesh murder case allege torture \n",
      "예측 요약 :  gauri lankesh murder accused of gauri lankesh murder\n",
      "\n",
      "\n",
      "원문 : cbse warned schools action found forcing students buy private publishers books claims costlier cbse ncert books also warned schools selling uniforms books campus board started issuing show cause notices schools flouting norms withdrew affiliation \n",
      "실제 요약 : action against schools forcing books on kids cbse \n",
      "예측 요약 :  cbse to give cbse to schools with exams\n",
      "\n",
      "\n",
      "원문 : woman uk set guinness world record rotating sword balanced placed inside mouth calls delicious dangerous managed break record sword balanced one minute \n",
      "실제 요약 : woman sword on to set record \n",
      "예측 요약 :  woman falls into world record by\n",
      "\n",
      "\n",
      "원문 : bombay house global headquarters tata group mumbai reopened month long renovation process th birth anniversary tata built year old heritage building undergone restoration first time history building designed george also architect gateway india \n",
      "실제 요약 : year old bombay house reopens after first ever \n",
      "예측 요약 :  govt to host its first ever complex\n",
      "\n",
      "\n",
      "원문 : cover pm narendra modi book addresses ways students tackle stress examinations released titled exam warriors book first kind initiative serving prime minister according reports pm modi book students prioritise knowledge marks \n",
      "실제 요약 : cover of pm modi book on exam stress released \n",
      "예측 요약 :  pm modi exam exam card to pm modi\n",
      "\n",
      "\n",
      "원문 : palestinian president mahmoud abbas spokesperson abu friday said us decision end aid un agency helping palestinian refugees assault palestinian people us called united nations relief works agency flawed single largest donor agency \n",
      "실제 요약 : palestine calls us aid cut to un group assault \n",
      "예측 요약 :  hamas accuses venezuela of rohingya violence\n",
      "\n",
      "\n",
      "원문 : residents neighbourhood bristol england placed trees near homes stop birds cars move received criticism green party councillor said look matter city council said cannot take action trees private land \n",
      "실제 요약 : anti bird placed on trees to save cars from poop \n",
      "예측 요약 :  luru residents protest against bengaluru\n",
      "\n",
      "\n",
      "원문 : first ever wimbledon competition held organised order raise enough funds get wimbledon tennis club maintenance roller repaired tournament inaugural edition saw participation players made profit roller repaired notably winner tournament awarded \n",
      "실제 요약 : st wimbledon was organised to fund repair of ground \n",
      "예측 요약 :  st wimbledon to get prize for wimbledon\n",
      "\n",
      "\n",
      "원문 : year old ambulance driver arrested drunk driving bengaluru saturday police found vehicle driven rash manner driving ambulance initially claimed way take patient hospital later revealed actually visiting friend \n",
      "실제 요약 : drunk ambulance driver fakes emergency after being caught \n",
      "예측 요약 :  drunk driver steals bmw to death by bmw in bengaluru\n",
      "\n",
      "\n",
      "원문 : man allegedly committed several robberies nabbed us police woman said video surveillance suspect video showed man attempting steal items unlocked cars wearing hotel slippers police arrested suspect checking local hotel near crime scene see staying \n",
      "실제 요약 : hotel slippers help police thief in us \n",
      "예측 요약 :  man arrested for stopping man from atm\n",
      "\n",
      "\n",
      "원문 : asked accepted apple co founder steve jobs interview call ceo tim cook recent interview said thought know opportunity talk guy started whole industry meeting jobs cook said eye would never seen ceo \n",
      "실제 요약 : apple ceo reveals why he accepted steve jobs interview call \n",
      "예측 요약 :  am not going to be apple ceo tim cook\n",
      "\n",
      "\n",
      "원문 : art living founder sri sri ravi shankar speaking sabarimala temple row sunday said tradition makes indian culture must followed rule menstruating women enter shrine added said need make issue \n",
      "실제 요약 : tradition must be followed sri sri on sabarimala row \n",
      "예측 요약 :  women temple is not an indian temple in india\n",
      "\n",
      "\n",
      "원문 : alleging ndtv founder prannoy roy may escape south africa bjp parliamentarian subramanian swamy said asking ed department issue look notice roy last year cbi accused roy causing losses icici bank meanwhile roy written pmo swamy malicious campaign ndtv \n",
      "실제 요약 : ndtv founder roy may from india swamy \n",
      "예측 요약 :  ndtv founder tweets defamation suit against ndtv\n",
      "\n",
      "\n",
      "원문 : anil ambani led reliance communications said lenders convert debt crore equity gain control rcom firm sell telecom tower real estate businesses pay crore crore debt company said made comprehensive debt resolution plan domestic foreign lenders \n",
      "실제 요약 : to take stake in rcom after debt conversion \n",
      "예측 요약 :  rcom to acquire stake in debt for crore\n",
      "\n",
      "\n",
      "원문 : olympic task force set prepare action plan next three olympics recommended emergency quota athletes coaches train bus air tickets panel recommended issuing pradhan mantri gold card athletes coaches account national assets recommendation applicable para athletes also \n",
      "실제 요약 : olympic panel suggests quota for athletes in trains flights \n"
     ]
    },
    {
     "name": "stdout",
     "output_type": "stream",
     "text": [
      "예측 요약 :  japan to get coaches of coaches of athletes\n",
      "\n",
      "\n",
      "원문 : year old woman named ellen fleming boston us became millionaire minutes recently million mistakenly transferred bank account woman informed concerned financial consultant found million account instead money actually meant another woman name florida \n",
      "실제 요약 : us woman becomes millionaire for minutes after account up \n",
      "예측 요약 :  woman who got credit card gets credit for hacking\n",
      "\n",
      "\n",
      "원문 : india captain virat kohli currently batsman world average across three formats kohli average currently highest world second highest odis test average touched century sri lanka first test galle \n",
      "실제 요약 : kohli world only player with average in all \n",
      "예측 요약 :  kohli has yo yo test for most straight year\n",
      "\n",
      "\n",
      "원문 : uk vedanta resources invest around billion india next years expand metals mining businesses billionaire chairman anil agarwal said agarwal said investments create million jobs directly indirectly added large part directed towards oil gas increase production \n",
      "실제 요약 : vedanta to invest billion in india anil agarwal \n",
      "예측 요약 :  adani to invest bn in oil owned by\n",
      "\n",
      "\n"
     ]
    }
   ],
   "source": [
    "# 테스트 데이터 약 50개의 샘플에 대해 실제 요약과 예측된 요약 비교\n",
    "for i in range(50, 100):\n",
    "    print(\"원문 :\", seq2text(encoder_input_test[i]))\n",
    "    print(\"실제 요약 :\", seq2summary(decoder_input_test[i]))\n",
    "    print(\"예측 요약 :\", decode_sequence(encoder_input_test[i].reshape(1, text_max_len)))\n",
    "    print(\"\\n\")"
   ]
  },
  {
   "cell_type": "markdown",
   "id": "90a4964b",
   "metadata": {},
   "source": [
    "# Step 5. Summa을 이용해서 추출적 요약해보기\n",
    "\n",
    "- 추상적 요약 : 문장의 표현력을 다양하게 가져갈 수 있지만, 추출적 요약에 비해서 난이도가 높다\n",
    "- 추출적 요약 : 추상적 요약보다 난이도가 낮고 잘못된 요약이 나올 가능성이 낮다\n",
    "- Summa의 summarize를 사용"
   ]
  },
  {
   "cell_type": "code",
   "execution_count": 110,
   "id": "558a7240",
   "metadata": {},
   "outputs": [],
   "source": [
    "import requests\n",
    "from summa.summarizer import summarize"
   ]
  },
  {
   "cell_type": "code",
   "execution_count": 111,
   "id": "bd9943bc",
   "metadata": {},
   "outputs": [
    {
     "name": "stdout",
     "output_type": "stream",
     "text": [
      "0       Saurav Kant, an alumnus of upGrad and IIIT-B's...\n",
      "1       Kunal Shah's credit card bill payment platform...\n",
      "2       New Zealand defeated India by 8 wickets in the...\n",
      "3       With Aegon Life iTerm Insurance plan, customer...\n",
      "4       Speaking about the sexual harassment allegatio...\n",
      "                              ...                        \n",
      "1495    India head coach Ravi Shastri has said that he...\n",
      "1496    Italian tennis player Andreas Seppi ensured hi...\n",
      "1497    World number three Roger Federer was stopped b...\n",
      "1498    A cutout of TMC chief and West Bengal CM Mamat...\n",
      "1499    A Delhi court on Saturday pulled up Delhi Poli...\n",
      "Name: text, Length: 1500, dtype: object\n"
     ]
    }
   ],
   "source": [
    "text = data['text']\n",
    "print(text[:1500])"
   ]
  },
  {
   "cell_type": "code",
   "execution_count": 112,
   "id": "04ec155d",
   "metadata": {},
   "outputs": [
    {
     "data": {
      "text/plain": [
       "\"Two minor cousins in Uttar Pradesh's Gorakhpur were allegedly repeatedly burnt with tongs and forced to eat human excreta by their family for being friends with two boys from the same school. The cousins revealed their ordeal to the police and Child Welfare Committee after being brought back to Gorakhpur from Nepal, where they had fled to escape the torture.\""
      ]
     },
     "execution_count": 112,
     "metadata": {},
     "output_type": "execute_result"
    }
   ],
   "source": [
    "text[10]"
   ]
  },
  {
   "cell_type": "code",
   "execution_count": 130,
   "id": "9d5af87b",
   "metadata": {},
   "outputs": [
    {
     "name": "stdout",
     "output_type": "stream",
     "text": [
      "Headlines:\n",
      "Two minor cousins in Uttar Pradesh's Gorakhpur were allegedly repeatedly burnt with tongs and forced to eat human excreta by their family for being friends with two boys from the same school.\n"
     ]
    }
   ],
   "source": [
    "print('Headlines:')\n",
    "print(summarize(text[10], words=20))"
   ]
  },
  {
   "cell_type": "code",
   "execution_count": 131,
   "id": "497d9047",
   "metadata": {},
   "outputs": [
    {
     "name": "stdout",
     "output_type": "stream",
     "text": [
      "\n",
      "\n",
      "Text :\n",
      "After he accused China of trying to interfere in the upcoming US congressional elections, President Donald Trump said he and Chinese President Xi Jinping might not be friends anymore. \"But I think he [Xi Jinping] probably respects me,\" Trump added. Notably, the US leader has spoken of his friendship with Xi many times since he took office.\n",
      "\n",
      "\n",
      "Headlines :\n",
      "\"But I think he [Xi Jinping] probably respects me,\" Trump added.\n",
      "\n",
      "\n",
      "--------------------------------------------------------------------------------------------------------\n",
      "\n",
      "\n",
      "Text :\n",
      "The partnership between the world's oldest democracy the US and world's largest democracy India could be the defining partnership of the 21st century, ex-US President Barack Obama has said. India and the US are hugely diverse and have got different languages, backgrounds and faiths but what they have in common is the values they believe in deeply, Obama added.\n",
      "\n",
      "\n",
      "Headlines :\n",
      "The partnership between the world's oldest democracy the US and world's largest democracy India could be the defining partnership of the 21st century, ex-US President Barack Obama has said.\n",
      "\n",
      "\n",
      "--------------------------------------------------------------------------------------------------------\n",
      "\n",
      "\n",
      "Text :\n",
      "Actor Akshay Kumar has said that when he got to know about his National Award win, he first thought that it was a late April fool's joke. He added, \"I've won this award with honesty. I have never cheated or made a call to anyone to win an award.\" Akshay further said better late than never on his win.nn\n",
      "\n",
      "\n",
      "Headlines :\n",
      "I have never cheated or made a call to anyone to win an award.\" Akshay further said better late than never on his win.nn\n",
      "\n",
      "\n",
      "--------------------------------------------------------------------------------------------------------\n",
      "\n",
      "\n",
      "Text :\n",
      "In his New Year message, Chinese President Xi Jinping on Sunday said the country will actively push its Belt and Road Initiative (BRI) in 2018. BRI, which also incorporates the China-Pakistan Economic Corridor (CPEC), aims to connect China with Asia and Europe through a network of rail and sea projects. India has opposed CPEC as it passes through Pakistan-occupied Kashmir.\n",
      "\n",
      "\n",
      "Headlines :\n",
      "BRI, which also incorporates the China-Pakistan Economic Corridor (CPEC), aims to connect China with Asia and Europe through a network of rail and sea projects.\n",
      "\n",
      "\n",
      "--------------------------------------------------------------------------------------------------------\n",
      "\n",
      "\n",
      "Text :\n",
      "As many as 4,000 police personnel have been deployed around the Chepauk Stadium ahead of CSK's first IPL match in Chennai after around three years amid Cauvery protests. Tamil groups have threatened that they could carry out protests inside the stadium. Earlier, TVK leader Velmurugan threatened his party would let loose snakes inside the stadium if the match goes through.\n",
      "\n",
      "\n",
      "Headlines :\n",
      "Tamil groups have threatened that they could carry out protests inside the stadium.\n",
      "\n",
      "\n",
      "--------------------------------------------------------------------------------------------------------\n",
      "\n",
      "\n",
      "Text :\n",
      "Nand Kumar Sai, Chairperson of National Commission for Scheduled Tribes (NCST) on Thursday said that Lord Hanuman was a tribal. Ã¢ÂÂThere are various sub-castes in the tribal community like Hanuman, Vanar, Giddha and Jatayu...Hanuman was also a tribal who resided in forest area,\" he said. His statements come after Uttar Pradesh CM Yogi Adityanath recently called Lord Hanuman a Dalit.\n",
      "\n",
      "\n",
      "Headlines :\n",
      "Nand Kumar Sai, Chairperson of National Commission for Scheduled Tribes (NCST) on Thursday said that Lord Hanuman was a tribal.\n",
      "\n",
      "\n",
      "--------------------------------------------------------------------------------------------------------\n",
      "\n",
      "\n",
      "Text :\n",
      "The recently-opened Tianjin Binhai Public Library in the Chinese city of Tianjin is capable of holding 1.2 million books. The five-storey structure resembles an eye, and contains reading rooms, lounges, rooftop patios as well as computer and audio rooms. The 33,700-square-metre structure was completed within three years. \n",
      "\n",
      "\n",
      "Headlines :\n",
      "The five-storey structure resembles an eye, and contains reading rooms, lounges, rooftop patios as well as computer and audio rooms.\n",
      "\n",
      "\n",
      "--------------------------------------------------------------------------------------------------------\n",
      "\n",
      "\n",
      "Text :\n",
      "Dismissing a plea by Ramdev's Divya Pharmacy, the Uttarakhand High Court said the company should share revenues derived from selling biological resources as 'herbal products' with farmers. Divya Pharmacy claimed that being \"purely an Indian company\", it should get relief from sharing benefits under the Biological Diversity Act. The court said this would \"defeat the very purpose of the Act\".\n",
      "\n",
      "\n",
      "Headlines :\n",
      "Dismissing a plea by Ramdev's Divya Pharmacy, the Uttarakhand High Court said the company should share revenues derived from selling biological resources as 'herbal products' with farmers.\n",
      "\n",
      "\n",
      "--------------------------------------------------------------------------------------------------------\n",
      "\n",
      "\n",
      "Text :\n",
      "CSK's Suresh Raina overtook RCB captain Virat Kohli to become the all-time leading run-scorer in IPL, achieving the feat during his unbeaten 54-run knock against SunRisers Hyderabad on Sunday. Raina has scored 4,658 runs while Kohli has slammed 4,649 runs in IPL. Earlier, Kohli had overtaken Raina as IPL's highest run-scorer in the match against Mumbai Indians on April 17.\n",
      "\n",
      "\n",
      "Headlines :\n",
      "Earlier, Kohli had overtaken Raina as IPL's highest run-scorer in the match against Mumbai Indians on April 17.\n",
      "\n",
      "\n",
      "--------------------------------------------------------------------------------------------------------\n",
      "\n",
      "\n",
      "Text :\n",
      "A new study has claimed that other planets may never be as hospitable as Earth. The study found that a planet's transition from an icy state to a habitable state would only occur with the presence of greenhouse gases like Earth's. In the absence of such conditions, planets would transit from icy to hot without any intermediate habitable phase.\n",
      "\n",
      "\n",
      "Headlines :\n",
      "The study found that a planet's transition from an icy state to a habitable state would only occur with the presence of greenhouse gases like Earth's.\n",
      "\n",
      "\n",
      "--------------------------------------------------------------------------------------------------------\n"
     ]
    }
   ],
   "source": [
    "for _ in range(10):\n",
    "    random_n = np.random.randint(len(text))\n",
    "    print(\"\\n\")\n",
    "    print(\"Text :\")\n",
    "    print(text[random_n])     #원문의 0.5%만 출력, 요약문 크기 조절\n",
    "    print(\"\\n\")\n",
    "    print(\"Headlines :\")\n",
    "    print(summarize(text[random_n], ratio=0.5))\n",
    "    print(\"\\n\")\n",
    "    print(\"--------------------------------------------------------------------------------------------------------\")"
   ]
  },
  {
   "cell_type": "code",
   "execution_count": null,
   "id": "c2a9b7fe",
   "metadata": {},
   "outputs": [],
   "source": []
  }
 ],
 "metadata": {
  "kernelspec": {
   "display_name": "Python 3 (ipykernel)",
   "language": "python",
   "name": "python3"
  },
  "language_info": {
   "codemirror_mode": {
    "name": "ipython",
    "version": 3
   },
   "file_extension": ".py",
   "mimetype": "text/x-python",
   "name": "python",
   "nbconvert_exporter": "python",
   "pygments_lexer": "ipython3",
   "version": "3.9.7"
  }
 },
 "nbformat": 4,
 "nbformat_minor": 5
}
